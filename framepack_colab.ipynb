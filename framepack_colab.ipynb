{
  "nbformat": 4,
  "nbformat_minor": 0,
  "metadata": {
    "colab": {
      "provenance": [],
      "gpuType": "T4",
      "include_colab_link": true
    },
    "kernelspec": {
      "name": "python3",
      "display_name": "Python 3"
    },
    "language_info": {
      "name": "python"
    },
    "accelerator": "GPU"
  },
  "cells": [
    {
      "cell_type": "markdown",
      "metadata": {
        "id": "view-in-github",
        "colab_type": "text"
      },
      "source": [
        "<a href=\"https://colab.research.google.com/github/Tharg0r/FramePack/blob/master/framepack_colab.ipynb\" target=\"_parent\"><img src=\"https://colab.research.google.com/assets/colab-badge.svg\" alt=\"Open In Colab\"/></a>"
      ]
    },
    {
      "cell_type": "markdown",
      "source": [
        "📖 Framepack Colab\n",
        "\n",
        "\n",
        "| |Github|\n",
        "|:--|:-:|\n",
        "| 🏠 **Profile** | [![GitHub](https://img.shields.io/badge/GitHub-%23121011.svg?logo=github&logoColor=white)](https://github.com/xLegende)|\n",
        "| 📘 **Repos** | [![GitHub](https://img.shields.io/badge/GitHub-%23121011.svg?logo=github&logoColor=white)](https://github.com/xLegende/framepack_colab)"
      ],
      "metadata": {
        "id": "ScaK6dVASRRK"
      }
    },
    {
      "cell_type": "code",
      "execution_count": 1,
      "metadata": {
        "id": "NeULx8snCgaJ",
        "cellView": "form",
        "outputId": "244ff9c0-a4cd-49f0-9986-e4aaaab87363",
        "colab": {
          "base_uri": "https://localhost:8080/"
        }
      },
      "outputs": [
        {
          "output_type": "stream",
          "name": "stdout",
          "text": [
            "Mon Apr 28 17:36:30 2025       \n",
            "+-----------------------------------------------------------------------------------------+\n",
            "| NVIDIA-SMI 550.54.15              Driver Version: 550.54.15      CUDA Version: 12.4     |\n",
            "|-----------------------------------------+------------------------+----------------------+\n",
            "| GPU  Name                 Persistence-M | Bus-Id          Disp.A | Volatile Uncorr. ECC |\n",
            "| Fan  Temp   Perf          Pwr:Usage/Cap |           Memory-Usage | GPU-Util  Compute M. |\n",
            "|                                         |                        |               MIG M. |\n",
            "|=========================================+========================+======================|\n",
            "|   0  Tesla T4                       Off |   00000000:00:04.0 Off |                    0 |\n",
            "| N/A   69C    P8             13W /   70W |       0MiB /  15360MiB |      0%      Default |\n",
            "|                                         |                        |                  N/A |\n",
            "+-----------------------------------------+------------------------+----------------------+\n",
            "                                                                                         \n",
            "+-----------------------------------------------------------------------------------------+\n",
            "| Processes:                                                                              |\n",
            "|  GPU   GI   CI        PID   Type   Process name                              GPU Memory |\n",
            "|        ID   ID                                                               Usage      |\n",
            "|=========================================================================================|\n",
            "|  No running processes found                                                             |\n",
            "+-----------------------------------------------------------------------------------------+\n",
            "\n",
            "---\n",
            "--- Disk Space ---\n",
            "Filesystem      Size  Used Avail Use% Mounted on\n",
            "overlay         113G   53G   61G  47% /\n",
            "--- Memory ---\n",
            "               total        used        free      shared  buff/cache   available\n",
            "Mem:            12Gi       673Mi       7.7Gi       1.0Mi       4.3Gi        11Gi\n",
            "Swap:             0B          0B          0B\n",
            "\n",
            "✅ GPU check complete. Ensure you have an GPU assigned.\n",
            "⚠️ Model files (>30GB) will be downloaded.\n"
          ]
        }
      ],
      "source": [
        "# @title 1. Check GPU and Runtime Type\n",
        "!nvidia-smi\n",
        "\n",
        "print(\"\\n---\")\n",
        "# Check memory - FramePack needs >6GB VRAM minimum.\n",
        "# Check disk space - Need >30GB for models + space for outputs/environment.\n",
        "!echo \"--- Disk Space ---\"\n",
        "!df -h /\n",
        "!echo \"--- Memory ---\"\n",
        "!free -h\n",
        "\n",
        "print(\"\\n✅ GPU check complete. Ensure you have an GPU assigned.\")\n",
        "print(\"⚠️ Model files (>30GB) will be downloaded.\")"
      ]
    },
    {
      "cell_type": "code",
      "source": [
        "# @title 2. Mount Google Drive\n",
        "from google.colab import drive\n",
        "drive.mount('/content/drive')\n",
        "\n",
        "print(\"\\n✅ Google Drive mounted at /content/drive/MyDrive.\")"
      ],
      "metadata": {
        "colab": {
          "base_uri": "https://localhost:8080/"
        },
        "id": "nK3ZlMkPCjJO",
        "outputId": "6fd6e79a-5915-4697-9a87-3aa292f927e9",
        "cellView": "form"
      },
      "execution_count": 2,
      "outputs": [
        {
          "output_type": "stream",
          "name": "stdout",
          "text": [
            "Mounted at /content/drive\n",
            "\n",
            "✅ Google Drive mounted at /content/drive/MyDrive.\n"
          ]
        }
      ]
    },
    {
      "cell_type": "code",
      "source": [
        "# @title 3. Define Google Drive Output Path\n",
        "\n",
        "#@markdown ---\n",
        "#@markdown **Specify the path within your Google Drive where generated videos should be saved:**\n",
        "#@markdown (e.g., `MyDrive/FramePack_Outputs`)\n",
        "#@markdown The folder will be created if it doesn't exist.\n",
        "gdrive_output_folder_path = \"MyDrive/FramePack_Outputs\" #@param {type:\"string\"}\n",
        "#@markdown ---\n",
        "\n",
        "import os\n",
        "\n",
        "google_drive_mount_point = \"/content/drive\"\n",
        "full_gdrive_output_path = os.path.join(google_drive_mount_point, gdrive_output_folder_path)\n",
        "\n",
        "# Create the output directory on Google Drive if it doesn't exist\n",
        "os.makedirs(full_gdrive_output_path, exist_ok=True)\n",
        "\n",
        "print(f\"✅ Output directory set to: {full_gdrive_output_path}\")\n",
        "print(\"Ensure this path exists or was created successfully.\")\n",
        "\n",
        "os.environ['GDRIVE_OUTPUT_PATH'] = full_gdrive_output_path"
      ],
      "metadata": {
        "id": "yzJxFzuDCkRf",
        "cellView": "form",
        "outputId": "0ec9d741-b326-4bc4-ddd0-ea30b9eb100c",
        "colab": {
          "base_uri": "https://localhost:8080/"
        }
      },
      "execution_count": 3,
      "outputs": [
        {
          "output_type": "stream",
          "name": "stdout",
          "text": [
            "✅ Output directory set to: /content/drive/MyDrive/FramePack_Outputs\n",
            "Ensure this path exists or was created successfully.\n"
          ]
        }
      ]
    },
    {
      "cell_type": "code",
      "source": [
        "# @title 4. Clone FramePack Repository\n",
        "import os\n",
        "repo_dir = \"FramePack\"\n",
        "if not os.path.exists(repo_dir):\n",
        "    !git clone https://github.com/lllyasviel/FramePack.git\n",
        "    print(\"✅ FramePack repository cloned.\")\n",
        "    %cd FramePack\n",
        "    print(f\"✅ Current directory changed to: {os.getcwd()}\")\n",
        "else:\n",
        "    print(f\"✅ Directory '{repo_dir}' already exists. Skipping clone.\")\n",
        "    current_dir = os.getcwd()\n",
        "    if not current_dir.endswith(repo_dir):\n",
        "        %cd FramePack\n",
        "        print(f\"✅ Current directory changed to: {os.getcwd()}\")\n",
        "    else:\n",
        "        print(f\"✅ Already in directory: {current_dir}\")"
      ],
      "metadata": {
        "id": "wFonTEhMCln7",
        "cellView": "form",
        "outputId": "5fd17238-bde0-4f85-d8a4-b4df030fd13c",
        "colab": {
          "base_uri": "https://localhost:8080/"
        }
      },
      "execution_count": 4,
      "outputs": [
        {
          "output_type": "stream",
          "name": "stdout",
          "text": [
            "Cloning into 'FramePack'...\n",
            "remote: Enumerating objects: 70, done.\u001b[K\n",
            "remote: Counting objects: 100% (45/45), done.\u001b[K\n",
            "remote: Compressing objects: 100% (36/36), done.\u001b[K\n",
            "remote: Total 70 (delta 30), reused 9 (delta 9), pack-reused 25 (from 2)\u001b[K\n",
            "Receiving objects: 100% (70/70), 45.72 KiB | 4.57 MiB/s, done.\n",
            "Resolving deltas: 100% (30/30), done.\n",
            "✅ FramePack repository cloned.\n",
            "/content/FramePack\n",
            "✅ Current directory changed to: /content/FramePack\n"
          ]
        }
      ]
    },
    {
      "cell_type": "code",
      "source": [
        "# @title 5. Install Dependencies\n",
        "#@markdown ---\n",
        "#@markdown This step installs PyTorch and\n",
        "#@markdown other requirements. This can take several minutes.\n",
        "\n",
        "#@markdown ---\n",
        "\n",
        "# Install PyTorch matching common Colab CUDA version (12.1). Adjust if needed.\n",
        "print(\"⏳ Installing PyTorch for CUDA 12.1...\")\n",
        "!pip install torch torchvision torchaudio --index-url https://download.pytorch.org/whl/cu121 -q\n",
        "print(\"✅ PyTorch installed.\")\n",
        "\n",
        "# Install requirements from the repository file\n",
        "import os\n",
        "if not os.getcwd().endswith('FramePack'):\n",
        "    print(\"Changing directory to FramePack...\")\n",
        "    %cd /content/FramePack\n",
        "\n",
        "print(\"⏳ Installing requirements from requirements.txt...\")\n",
        "!pip install -r requirements.txt -q\n",
        "print(\"✅ Repository requirements installed.\")\n",
        "\n",
        "# Install Gradio\n",
        "print(\"⏳ Installing Gradio...\")\n",
        "!pip install gradio -q\n",
        "print(\"✅ Gradio installed.\")\n",
        "\n",
        "print(\"⏳ Installing xformers for potential memory savings...\")\n",
        "!pip install -q xformers --index-url https://download.pytorch.org/whl/cu121\n",
        "print(\"✅ xformers installation attempted.\")\n",
        "\n",
        "\n",
        "print(\"⏳ (Optional) Installing sage-attention...\")\n",
        "!pip install sageattention -q\n",
        "print(\"✅ (Optional) sage-attention installed.\")\n",
        "\n",
        "print(\"\\n✅ All dependency installations attempted.\")\n",
        "print(\"⚠️ Check output above for any errors during installation.\")"
      ],
      "metadata": {
        "id": "32ZAKEZZCm-Z",
        "cellView": "form",
        "outputId": "cbdfe4b6-c5bc-43d7-9210-ed0db5fe2a5d",
        "colab": {
          "base_uri": "https://localhost:8080/"
        }
      },
      "execution_count": 5,
      "outputs": [
        {
          "output_type": "stream",
          "name": "stdout",
          "text": [
            "⏳ Installing PyTorch for CUDA 12.1...\n",
            "\u001b[2K     \u001b[90m━━━━━━━━━━━━━━━━━━━━━━━━━━━━━━━━━━━━━━━\u001b[0m \u001b[32m780.5/780.5 MB\u001b[0m \u001b[31m1.5 MB/s\u001b[0m eta \u001b[36m0:00:00\u001b[0m\n",
            "\u001b[2K     \u001b[90m━━━━━━━━━━━━━━━━━━━━━━━━━━━━━━━━━━━━━━━━\u001b[0m \u001b[32m23.7/23.7 MB\u001b[0m \u001b[31m99.1 MB/s\u001b[0m eta \u001b[36m0:00:00\u001b[0m\n",
            "\u001b[2K     \u001b[90m━━━━━━━━━━━━━━━━━━━━━━━━━━━━━━━━━━━━━━\u001b[0m \u001b[32m823.6/823.6 kB\u001b[0m \u001b[31m51.8 MB/s\u001b[0m eta \u001b[36m0:00:00\u001b[0m\n",
            "\u001b[2K     \u001b[90m━━━━━━━━━━━━━━━━━━━━━━━━━━━━━━━━━━━━━━━━\u001b[0m \u001b[32m14.1/14.1 MB\u001b[0m \u001b[31m86.6 MB/s\u001b[0m eta \u001b[36m0:00:00\u001b[0m\n",
            "\u001b[2K     \u001b[90m━━━━━━━━━━━━━━━━━━━━━━━━━━━━━━━━━━━━━━━\u001b[0m \u001b[32m664.8/664.8 MB\u001b[0m \u001b[31m2.0 MB/s\u001b[0m eta \u001b[36m0:00:00\u001b[0m\n",
            "\u001b[2K     \u001b[90m━━━━━━━━━━━━━━━━━━━━━━━━━━━━━━━━━━━━━━━\u001b[0m \u001b[32m410.6/410.6 MB\u001b[0m \u001b[31m2.9 MB/s\u001b[0m eta \u001b[36m0:00:00\u001b[0m\n",
            "\u001b[2K     \u001b[90m━━━━━━━━━━━━━━━━━━━━━━━━━━━━━━━━━━━━━━━\u001b[0m \u001b[32m121.6/121.6 MB\u001b[0m \u001b[31m8.1 MB/s\u001b[0m eta \u001b[36m0:00:00\u001b[0m\n",
            "\u001b[2K     \u001b[90m━━━━━━━━━━━━━━━━━━━━━━━━━━━━━━━━━━━━━━━━\u001b[0m \u001b[32m56.5/56.5 MB\u001b[0m \u001b[31m12.8 MB/s\u001b[0m eta \u001b[36m0:00:00\u001b[0m\n",
            "\u001b[2K     \u001b[90m━━━━━━━━━━━━━━━━━━━━━━━━━━━━━━━━━━━━━━━\u001b[0m \u001b[32m124.2/124.2 MB\u001b[0m \u001b[31m7.6 MB/s\u001b[0m eta \u001b[36m0:00:00\u001b[0m\n",
            "\u001b[2K     \u001b[90m━━━━━━━━━━━━━━━━━━━━━━━━━━━━━━━━━━━━━━━\u001b[0m \u001b[32m196.0/196.0 MB\u001b[0m \u001b[31m5.9 MB/s\u001b[0m eta \u001b[36m0:00:00\u001b[0m\n",
            "\u001b[2K     \u001b[90m━━━━━━━━━━━━━━━━━━━━━━━━━━━━━━━━━━━━━━━━\u001b[0m \u001b[32m99.1/99.1 kB\u001b[0m \u001b[31m9.5 MB/s\u001b[0m eta \u001b[36m0:00:00\u001b[0m\n",
            "\u001b[2K     \u001b[90m━━━━━━━━━━━━━━━━━━━━━━━━━━━━━━━━━━━━━━━\u001b[0m \u001b[32m209.5/209.5 MB\u001b[0m \u001b[31m6.3 MB/s\u001b[0m eta \u001b[36m0:00:00\u001b[0m\n",
            "\u001b[2K     \u001b[90m━━━━━━━━━━━━━━━━━━━━━━━━━━━━━━━━━━━━━━━━\u001b[0m \u001b[32m7.3/7.3 MB\u001b[0m \u001b[31m114.0 MB/s\u001b[0m eta \u001b[36m0:00:00\u001b[0m\n",
            "\u001b[2K     \u001b[90m━━━━━━━━━━━━━━━━━━━━━━━━━━━━━━━━━━━━━━━━\u001b[0m \u001b[32m3.4/3.4 MB\u001b[0m \u001b[31m103.6 MB/s\u001b[0m eta \u001b[36m0:00:00\u001b[0m\n",
            "\u001b[?25h✅ PyTorch installed.\n",
            "⏳ Installing requirements from requirements.txt...\n",
            "\u001b[2K     \u001b[90m━━━━━━━━━━━━━━━━━━━━━━━━━━━━━━━━━━━━━━━━\u001b[0m \u001b[32m44.1/44.1 kB\u001b[0m \u001b[31m3.2 MB/s\u001b[0m eta \u001b[36m0:00:00\u001b[0m\n",
            "\u001b[2K     \u001b[90m━━━━━━━━━━━━━━━━━━━━━━━━━━━━━━━━━━━━━━━━\u001b[0m \u001b[32m61.2/61.2 kB\u001b[0m \u001b[31m3.9 MB/s\u001b[0m eta \u001b[36m0:00:00\u001b[0m\n",
            "\u001b[2K     \u001b[90m━━━━━━━━━━━━━━━━━━━━━━━━━━━━━━━━━━━━━━━━\u001b[0m \u001b[32m60.4/60.4 kB\u001b[0m \u001b[31m4.8 MB/s\u001b[0m eta \u001b[36m0:00:00\u001b[0m\n",
            "\u001b[2K   \u001b[90m━━━━━━━━━━━━━━━━━━━━━━━━━━━━━━━━━━━━━━━━\u001b[0m \u001b[32m10.0/10.0 MB\u001b[0m \u001b[31m96.1 MB/s\u001b[0m eta \u001b[36m0:00:00\u001b[0m\n",
            "\u001b[2K   \u001b[90m━━━━━━━━━━━━━━━━━━━━━━━━━━━━━━━━━━━━━━━━\u001b[0m \u001b[32m51.3/51.3 MB\u001b[0m \u001b[31m11.1 MB/s\u001b[0m eta \u001b[36m0:00:00\u001b[0m\n",
            "\u001b[2K   \u001b[90m━━━━━━━━━━━━━━━━━━━━━━━━━━━━━━━━━━━━━━━━\u001b[0m \u001b[32m4.5/4.5 MB\u001b[0m \u001b[31m89.5 MB/s\u001b[0m eta \u001b[36m0:00:00\u001b[0m\n",
            "\u001b[2K   \u001b[90m━━━━━━━━━━━━━━━━━━━━━━━━━━━━━━━━━━━━━━━━\u001b[0m \u001b[32m35.2/35.2 MB\u001b[0m \u001b[31m48.7 MB/s\u001b[0m eta \u001b[36m0:00:00\u001b[0m\n",
            "\u001b[2K   \u001b[90m━━━━━━━━━━━━━━━━━━━━━━━━━━━━━━━━━━━━━━━━\u001b[0m \u001b[32m18.2/18.2 MB\u001b[0m \u001b[31m111.6 MB/s\u001b[0m eta \u001b[36m0:00:00\u001b[0m\n",
            "\u001b[2K   \u001b[90m━━━━━━━━━━━━━━━━━━━━━━━━━━━━━━━━━━━━━━━━\u001b[0m \u001b[32m38.4/38.4 MB\u001b[0m \u001b[31m19.6 MB/s\u001b[0m eta \u001b[36m0:00:00\u001b[0m\n",
            "\u001b[2K   \u001b[90m━━━━━━━━━━━━━━━━━━━━━━━━━━━━━━━━━━━━━━━━\u001b[0m \u001b[32m62.6/62.6 kB\u001b[0m \u001b[31m6.9 MB/s\u001b[0m eta \u001b[36m0:00:00\u001b[0m\n",
            "\u001b[2K   \u001b[90m━━━━━━━━━━━━━━━━━━━━━━━━━━━━━━━━━━━━━━━━\u001b[0m \u001b[32m61.2/61.2 kB\u001b[0m \u001b[31m5.8 MB/s\u001b[0m eta \u001b[36m0:00:00\u001b[0m\n",
            "\u001b[2K   \u001b[90m━━━━━━━━━━━━━━━━━━━━━━━━━━━━━━━━━━━━━━━━\u001b[0m \u001b[32m322.2/322.2 kB\u001b[0m \u001b[31m30.4 MB/s\u001b[0m eta \u001b[36m0:00:00\u001b[0m\n",
            "\u001b[2K   \u001b[90m━━━━━━━━━━━━━━━━━━━━━━━━━━━━━━━━━━━━━━━━\u001b[0m \u001b[32m95.2/95.2 kB\u001b[0m \u001b[31m9.9 MB/s\u001b[0m eta \u001b[36m0:00:00\u001b[0m\n",
            "\u001b[2K   \u001b[90m━━━━━━━━━━━━━━━━━━━━━━━━━━━━━━━━━━━━━━━━\u001b[0m \u001b[32m11.5/11.5 MB\u001b[0m \u001b[31m111.6 MB/s\u001b[0m eta \u001b[36m0:00:00\u001b[0m\n",
            "\u001b[2K   \u001b[90m━━━━━━━━━━━━━━━━━━━━━━━━━━━━━━━━━━━━━━━━\u001b[0m \u001b[32m72.0/72.0 kB\u001b[0m \u001b[31m7.5 MB/s\u001b[0m eta \u001b[36m0:00:00\u001b[0m\n",
            "\u001b[2K   \u001b[90m━━━━━━━━━━━━━━━━━━━━━━━━━━━━━━━━━━━━━━━━\u001b[0m \u001b[32m3.0/3.0 MB\u001b[0m \u001b[31m101.5 MB/s\u001b[0m eta \u001b[36m0:00:00\u001b[0m\n",
            "\u001b[2K   \u001b[90m━━━━━━━━━━━━━━━━━━━━━━━━━━━━━━━━━━━━━━━━\u001b[0m \u001b[32m62.5/62.5 kB\u001b[0m \u001b[31m6.6 MB/s\u001b[0m eta \u001b[36m0:00:00\u001b[0m\n",
            "\u001b[?25h\u001b[31mERROR: pip's dependency resolver does not currently take into account all the packages that are installed. This behaviour is the source of the following dependency conflicts.\n",
            "google-colab 1.0.0 requires requests==2.32.3, but you have requests 2.31.0 which is incompatible.\n",
            "thinc 8.3.6 requires numpy<3.0.0,>=2.0.0, but you have numpy 1.26.2 which is incompatible.\u001b[0m\u001b[31m\n",
            "\u001b[0m✅ Repository requirements installed.\n",
            "⏳ Installing Gradio...\n",
            "✅ Gradio installed.\n",
            "⏳ Installing xformers for potential memory savings...\n",
            "\u001b[2K   \u001b[90m━━━━━━━━━━━━━━━━━━━━━━━━━━━━━━━━━━━━━━━━\u001b[0m \u001b[32m15.3/15.3 MB\u001b[0m \u001b[31m116.1 MB/s\u001b[0m eta \u001b[36m0:00:00\u001b[0m\n",
            "\u001b[?25h✅ xformers installation attempted.\n",
            "⏳ (Optional) Installing sage-attention...\n",
            "✅ (Optional) sage-attention installed.\n",
            "\n",
            "✅ All dependency installations attempted.\n",
            "⚠️ Check output above for any errors during installation.\n"
          ]
        }
      ]
    },
    {
      "cell_type": "code",
      "source": [
        "# @title 6. Run FramePack Gradio Application\n",
        "#@markdown ---\n",
        "#@markdown This cell launches the FramePack Gradio web interface.\n",
        "#@markdown - It will automatically download the models (>30GB) the first time it runs. This can take a long time.\n",
        "#@markdown - A public Gradio link (like `https://....gradio.live`) will appear in the output below. Click this link to open the UI in a new tab.\n",
        "#@markdown ---\n",
        "import os\n",
        "\n",
        "if not os.getcwd().endswith('FramePack'):\n",
        "    print(\"Changing directory to FramePack...\")\n",
        "    %cd /content/FramePack\n",
        "\n",
        "gdrive_output_path = os.environ.get('GDRIVE_OUTPUT_PATH', 'Google Drive Path Not Found - Check Cell 3')\n",
        "\n",
        "print(\"⏳ Launching FramePack Gradio App...\")\n",
        "print(\"‼️ This will start the model download process if running for the first time (>30GB). Please be patient.\")\n",
        "print(f\"⚠️ Remember to check for output files locally (e.g., in /content/FramePack/outputs) and move them to {gdrive_output_path} if needed (using Cell 7).\")\n",
        "\n",
        "# Run the Gradio demo script. --share creates a public link.\n",
        "!python demo_gradio.py --share\n",
        "\n",
        "print(\"\\n🛑 Gradio app execution finished or interrupted.\")\n",
        "print(f\"➡️ If videos were generated, check local folders (like /content/FramePack/outputs/) and consider using Cell 7 to copy desired files to your Google Drive.\")"
      ],
      "metadata": {
        "id": "LvYIgOjnCoM3",
        "cellView": "form"
      },
      "execution_count": null,
      "outputs": []
    },
    {
      "cell_type": "code",
      "source": [
        "# @title (Optional) 7. Manually Copy Outputs to Google Drive\n",
        "#@markdown ---\n",
        "#@markdown If the application saved files locally (e.g., in `/content/FramePack/outputs`),\n",
        "#@markdown you can run this cell **after stopping Cell 6** to copy them to your Google Drive folder.\n",
        "#@markdown ---\n",
        "#@markdown **Enter the local source folder path (relative to /content/FramePack/):**\n",
        "local_output_folder = \"outputs\" #@param {type:\"string\"}\n",
        "#@markdown ---\n",
        "\n",
        "import os\n",
        "import shutil\n",
        "import glob\n",
        "\n",
        "base_repo_path = \"/content/FramePack\"\n",
        "local_source_path = os.path.join(base_repo_path, local_output_folder)\n",
        "\n",
        "target_gdrive_path = os.environ.get('GDRIVE_OUTPUT_PATH')\n",
        "\n",
        "if not target_gdrive_path:\n",
        "    print(\"❌ Error: Google Drive output path not found. Please re-run Cell 3.\")\n",
        "else:\n",
        "    print(f\"Attempting to copy files from: {local_source_path}\")\n",
        "    print(f\"To Google Drive destination: {target_gdrive_path}\")\n",
        "\n",
        "    if os.path.exists(local_source_path):\n",
        "        files_to_copy = glob.glob(os.path.join(local_source_path, \"*\"))\n",
        "\n",
        "        if not files_to_copy:\n",
        "            print(\"No files found in the local source folder.\")\n",
        "        else:\n",
        "            print(f\"Found {len(files_to_copy)} item(s) to potentially copy...\")\n",
        "            copied_count = 0\n",
        "            skipped_count = 0\n",
        "            for item_path in files_to_copy:\n",
        "                item_name = os.path.basename(item_path)\n",
        "                destination_path = os.path.join(target_gdrive_path, item_name)\n",
        "\n",
        "                try:\n",
        "                    if os.path.isfile(item_path):\n",
        "                        shutil.copy2(item_path, destination_path)\n",
        "                        print(f\"Copied File: {item_name}\")\n",
        "                        copied_count += 1\n",
        "                    elif os.path.isdir(item_path):\n",
        "                        print(f\"Skipping Directory: {item_name} (copying only files by default)\")\n",
        "                        skipped_count +=1\n",
        "                    else:\n",
        "                         print(f\"Skipping Unknown Item Type: {item_name}\")\n",
        "                         skipped_count +=1\n",
        "\n",
        "                except Exception as e:\n",
        "                    print(f\"Error copying {item_name}: {e}\")\n",
        "                    skipped_count +=1\n",
        "\n",
        "            print(f\"\\n✅ Finished copying attempt.\")\n",
        "            print(f\"  {copied_count} item(s) copied successfully.\")\n",
        "            if skipped_count > 0:\n",
        "                print(f\"  {skipped_count} item(s) skipped (e.g., directories, errors).\")\n",
        "            print(f\"Check your Drive folder: {target_gdrive_path}\")\n",
        "\n",
        "    else:\n",
        "        print(f\"❌ Local source folder '{local_source_path}' does not exist. Cannot copy files.\")\n",
        "        print(\"Please ensure the 'local_output_folder' name is correct and that the Gradio app generated files there.\")"
      ],
      "metadata": {
        "id": "lplcRgbuCpix",
        "cellView": "form"
      },
      "execution_count": null,
      "outputs": []
    }
  ]
}